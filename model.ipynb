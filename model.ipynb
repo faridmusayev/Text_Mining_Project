{
 "cells": [
  {
   "cell_type": "markdown",
   "id": "12eddc0a",
   "metadata": {},
   "source": [
    "## Default Packages"
   ]
  },
  {
   "cell_type": "code",
   "execution_count": 101,
   "id": "5fe47b96",
   "metadata": {},
   "outputs": [],
   "source": [
    "import pandas as pd\n",
    "import numpy as np\n",
    "import matplotlib.pyplot as plt"
   ]
  },
  {
   "cell_type": "markdown",
   "id": "ce8f1ae4",
   "metadata": {},
   "source": [
    "## Tokenization"
   ]
  },
  {
   "cell_type": "code",
   "execution_count": 927,
   "id": "bacda84a",
   "metadata": {},
   "outputs": [],
   "source": [
    "import spacy\n",
    "\n",
    "train = pd.read_csv('train.csv').dropna()\n",
    "test = pd.read_csv('test.csv').dropna()\n",
    "\n",
    "nlp = spacy.load(\"en_core_web_sm\", exclude = ['parser', 'ner'])\n",
    "\n",
    "def preprocess(text):\n",
    "    doc = nlp(text)\n",
    "    prep_text = [token.text.lower() for token in doc if token.text.isalpha()]\n",
    "    return ' '.join(prep_text)\n",
    "\n",
    "# Remember to replace \"`\" with \"'\" to let spacy tokenize correctly\n",
    "tr = train['text'].apply(lambda x: preprocess(x.replace(\"`\",\"'\")))\n",
    "ts = test['text'].apply(lambda x: preprocess(x.replace(\"`\",\"'\")))\n",
    "\n",
    "# Below lines were required to save tokenized datasets\n",
    "# pd.concat([ts, test['sentiment']], axis=1).to_csv('test_tokenized.csv', index = False)\n",
    "# pd.concat([tr, train['sentiment']], axis=1).to_csv('train_tokenized.csv', index = False)"
   ]
  },
  {
   "cell_type": "markdown",
   "id": "276b40ea",
   "metadata": {},
   "source": [
    "## Data"
   ]
  },
  {
   "cell_type": "code",
   "execution_count": 2,
   "id": "7cec32ac",
   "metadata": {},
   "outputs": [],
   "source": [
    "# Import data\n",
    "train = pd.read_csv('train_tokenized.csv')\n",
    "test = pd.read_csv('test_tokenized.csv')\n",
    "\n",
    "# There maybe a few missing values that can be removed.\n",
    "train = train.dropna()\n",
    "test = test.dropna()"
   ]
  },
  {
   "cell_type": "code",
   "execution_count": 3,
   "id": "79356865",
   "metadata": {
    "scrolled": false
   },
   "outputs": [
    {
     "data": {
      "text/plain": [
       "neutral     11106\n",
       "positive     8580\n",
       "negative     7780\n",
       "Name: sentiment, dtype: int64"
      ]
     },
     "execution_count": 3,
     "metadata": {},
     "output_type": "execute_result"
    }
   ],
   "source": [
    "train.sentiment.value_counts()"
   ]
  },
  {
   "cell_type": "code",
   "execution_count": 340,
   "id": "462d931a",
   "metadata": {},
   "outputs": [
    {
     "data": {
      "text/plain": [
       "(27466, 2)"
      ]
     },
     "execution_count": 340,
     "metadata": {},
     "output_type": "execute_result"
    }
   ],
   "source": [
    "train.shape"
   ]
  },
  {
   "cell_type": "code",
   "execution_count": 145,
   "id": "06d3829c",
   "metadata": {},
   "outputs": [
    {
     "data": {
      "text/plain": [
       "neutral     1426\n",
       "positive    1102\n",
       "negative    1001\n",
       "Name: sentiment, dtype: int64"
      ]
     },
     "execution_count": 145,
     "metadata": {},
     "output_type": "execute_result"
    }
   ],
   "source": [
    "test.sentiment.value_counts()"
   ]
  },
  {
   "cell_type": "code",
   "execution_count": 341,
   "id": "fb31cadb",
   "metadata": {},
   "outputs": [
    {
     "data": {
      "text/plain": [
       "(3529, 2)"
      ]
     },
     "execution_count": 341,
     "metadata": {},
     "output_type": "execute_result"
    }
   ],
   "source": [
    "test.shape"
   ]
  },
  {
   "cell_type": "code",
   "execution_count": 336,
   "id": "eac49b38",
   "metadata": {},
   "outputs": [
    {
     "data": {
      "image/png": "[encoded data removed]",
      "text/plain": [
       "<Figure size 1000x400 with 2 Axes>"
      ]
     },
     "metadata": {},
     "output_type": "display_data"
    }
   ],
   "source": [
    "# Plotting distribution of classes in each of the datasets\n",
    "fig, ax = plt.subplots(nrows = 1, ncols = 2, figsize = (10, 4), gridspec_kw={'hspace': 0.35,\n",
    "                                  'wspace': 0.6,\n",
    "                                  'height_ratios':[10]})\n",
    "# Training\n",
    "train.sentiment.value_counts().plot.barh(ax = ax[0])\n",
    "ax[0].set_title('Training Data')\n",
    "ax[0].set_xlabel('# of samples', fontdict={'fontsize':10})\n",
    "ax[0].set_ylabel('Sentiment type', fontdict={'fontsize':10})\n",
    "\n",
    "# Test\n",
    "test.sentiment.value_counts().plot.barh(ax = ax[1])\n",
    "ax[1].set_title('Test Data')\n",
    "ax[1].set_xlabel('# of samples')\n",
    "ax[1].set_ylabel('Sentiment type')\n",
    "\n",
    "# Save figure to use in report\n",
    "plt.savefig('data_distribution.png', dpi = 200)"
   ]
  },
  {
   "cell_type": "markdown",
   "id": "5f5d2791",
   "metadata": {},
   "source": [
    "## Train/Valid/Dev Split"
   ]
  },
  {
   "cell_type": "code",
   "execution_count": 131,
   "id": "9266a7c8",
   "metadata": {},
   "outputs": [],
   "source": [
    "from sklearn.model_selection import train_test_split\n",
    "\n",
    "# Train\n",
    "X, y = train['text'], train['sentiment']\n",
    "# Test\n",
    "X_test, y_test = test['text'], test['sentiment']\n",
    "\n",
    "# Dividing X into train and validation sets for early stopping (in Neural Model)\n",
    "X_train, X_valid, y_train, y_valid = train_test_split(X, y, test_size = 0.3, random_state=42)\n"
   ]
  },
  {
   "cell_type": "markdown",
   "id": "b06c1853",
   "metadata": {},
   "source": [
    "## SVM Classifier with SGD Training"
   ]
  },
  {
   "cell_type": "code",
   "execution_count": 147,
   "id": "9c6930b1",
   "metadata": {
    "scrolled": false
   },
   "outputs": [
    {
     "name": "stdout",
     "output_type": "stream",
     "text": [
      "Training Data Results:\n",
      "               precision    recall  f1-score   support\n",
      "\n",
      "    negative       0.82      0.65      0.72      7780\n",
      "     neutral       0.68      0.82      0.74     11106\n",
      "    positive       0.82      0.76      0.79      8580\n",
      "\n",
      "    accuracy                           0.75     27466\n",
      "   macro avg       0.77      0.74      0.75     27466\n",
      "weighted avg       0.76      0.75      0.75     27466\n",
      "\n",
      "Test Data Results:\n",
      "               precision    recall  f1-score   support\n",
      "\n",
      "    negative       0.73      0.68      0.71      1001\n",
      "     neutral       0.67      0.72      0.69      1426\n",
      "    positive       0.78      0.76      0.77      1102\n",
      "\n",
      "    accuracy                           0.72      3529\n",
      "   macro avg       0.73      0.72      0.73      3529\n",
      "weighted avg       0.72      0.72      0.72      3529\n",
      "\n"
     ]
    }
   ],
   "source": [
    "from sklearn.pipeline import Pipeline\n",
    "from sklearn.feature_extraction.text import TfidfVectorizer\n",
    "from sklearn.linear_model import SGDClassifier\n",
    "from sklearn.metrics import classification_report\n",
    "\n",
    "\n",
    "# Design Pipeline\n",
    "pipe = Pipeline([('vectorizer', TfidfVectorizer(ngram_range = (1, 2))), \n",
    "                 ('SGD', SGDClassifier(loss = 'modified_huber', \n",
    "                                       penalty = 'elasticnet',\n",
    "                                       l1_ratio = 0.9,\n",
    "                                       random_state = 42))])\n",
    "\n",
    "# Above parameters for SGDClassifier were proven to be the best when implementing k-fold cross-validation (see below).\n",
    "\n",
    "# Fit and Predict\n",
    "pipe.fit(X, y)\n",
    "y_train_pred = pipe.predict(X)\n",
    "y_test_pred = pipe.predict(X_test)\n",
    "\n",
    "print('Training Data Results:\\n', classification_report(y, y_train_pred))\n",
    "print('Test Data Results:\\n', classification_report(y_test, y_test_pred))"
   ]
  },
  {
   "cell_type": "markdown",
   "id": "69afa5d0",
   "metadata": {},
   "source": [
    "## Grid Search of Parameters for SVM Classifier"
   ]
  },
  {
   "cell_type": "code",
   "execution_count": 140,
   "id": "813a7626",
   "metadata": {
    "scrolled": true
   },
   "outputs": [
    {
     "name": "stderr",
     "output_type": "stream",
     "text": [
      "C:\\Users\\Public\\anaconda3\\envs\\tm\\lib\\site-packages\\sklearn\\linear_model\\_stochastic_gradient.py:705: ConvergenceWarning: Maximum number of iteration reached before convergence. Consider increasing max_iter to improve the fit.\n",
      "  warnings.warn(\n",
      "C:\\Users\\Public\\anaconda3\\envs\\tm\\lib\\site-packages\\sklearn\\linear_model\\_stochastic_gradient.py:705: ConvergenceWarning: Maximum number of iteration reached before convergence. Consider increasing max_iter to improve the fit.\n",
      "  warnings.warn(\n",
      "C:\\Users\\Public\\anaconda3\\envs\\tm\\lib\\site-packages\\sklearn\\linear_model\\_stochastic_gradient.py:705: ConvergenceWarning: Maximum number of iteration reached before convergence. Consider increasing max_iter to improve the fit.\n",
      "  warnings.warn(\n",
      "C:\\Users\\Public\\anaconda3\\envs\\tm\\lib\\site-packages\\sklearn\\linear_model\\_stochastic_gradient.py:705: ConvergenceWarning: Maximum number of iteration reached before convergence. Consider increasing max_iter to improve the fit.\n",
      "  warnings.warn(\n",
      "C:\\Users\\Public\\anaconda3\\envs\\tm\\lib\\site-packages\\sklearn\\linear_model\\_stochastic_gradient.py:705: ConvergenceWarning: Maximum number of iteration reached before convergence. Consider increasing max_iter to improve the fit.\n",
      "  warnings.warn(\n",
      "C:\\Users\\Public\\anaconda3\\envs\\tm\\lib\\site-packages\\sklearn\\linear_model\\_stochastic_gradient.py:705: ConvergenceWarning: Maximum number of iteration reached before convergence. Consider increasing max_iter to improve the fit.\n",
      "  warnings.warn(\n",
      "C:\\Users\\Public\\anaconda3\\envs\\tm\\lib\\site-packages\\sklearn\\linear_model\\_stochastic_gradient.py:705: ConvergenceWarning: Maximum number of iteration reached before convergence. Consider increasing max_iter to improve the fit.\n",
      "  warnings.warn(\n",
      "C:\\Users\\Public\\anaconda3\\envs\\tm\\lib\\site-packages\\sklearn\\linear_model\\_stochastic_gradient.py:705: ConvergenceWarning: Maximum number of iteration reached before convergence. Consider increasing max_iter to improve the fit.\n",
      "  warnings.warn(\n",
      "C:\\Users\\Public\\anaconda3\\envs\\tm\\lib\\site-packages\\sklearn\\linear_model\\_stochastic_gradient.py:705: ConvergenceWarning: Maximum number of iteration reached before convergence. Consider increasing max_iter to improve the fit.\n",
      "  warnings.warn(\n",
      "C:\\Users\\Public\\anaconda3\\envs\\tm\\lib\\site-packages\\sklearn\\linear_model\\_stochastic_gradient.py:705: ConvergenceWarning: Maximum number of iteration reached before convergence. Consider increasing max_iter to improve the fit.\n",
      "  warnings.warn(\n",
      "C:\\Users\\Public\\anaconda3\\envs\\tm\\lib\\site-packages\\sklearn\\linear_model\\_stochastic_gradient.py:705: ConvergenceWarning: Maximum number of iteration reached before convergence. Consider increasing max_iter to improve the fit.\n",
      "  warnings.warn(\n",
      "C:\\Users\\Public\\anaconda3\\envs\\tm\\lib\\site-packages\\sklearn\\linear_model\\_stochastic_gradient.py:705: ConvergenceWarning: Maximum number of iteration reached before convergence. Consider increasing max_iter to improve the fit.\n",
      "  warnings.warn(\n",
      "C:\\Users\\Public\\anaconda3\\envs\\tm\\lib\\site-packages\\sklearn\\linear_model\\_stochastic_gradient.py:705: ConvergenceWarning: Maximum number of iteration reached before convergence. Consider increasing max_iter to improve the fit.\n",
      "  warnings.warn(\n",
      "C:\\Users\\Public\\anaconda3\\envs\\tm\\lib\\site-packages\\sklearn\\linear_model\\_stochastic_gradient.py:705: ConvergenceWarning: Maximum number of iteration reached before convergence. Consider increasing max_iter to improve the fit.\n",
      "  warnings.warn(\n",
      "C:\\Users\\Public\\anaconda3\\envs\\tm\\lib\\site-packages\\sklearn\\linear_model\\_stochastic_gradient.py:705: ConvergenceWarning: Maximum number of iteration reached before convergence. Consider increasing max_iter to improve the fit.\n",
      "  warnings.warn(\n",
      "C:\\Users\\Public\\anaconda3\\envs\\tm\\lib\\site-packages\\sklearn\\linear_model\\_stochastic_gradient.py:705: ConvergenceWarning: Maximum number of iteration reached before convergence. Consider increasing max_iter to improve the fit.\n",
      "  warnings.warn(\n",
      "C:\\Users\\Public\\anaconda3\\envs\\tm\\lib\\site-packages\\sklearn\\linear_model\\_stochastic_gradient.py:705: ConvergenceWarning: Maximum number of iteration reached before convergence. Consider increasing max_iter to improve the fit.\n",
      "  warnings.warn(\n",
      "C:\\Users\\Public\\anaconda3\\envs\\tm\\lib\\site-packages\\sklearn\\linear_model\\_stochastic_gradient.py:705: ConvergenceWarning: Maximum number of iteration reached before convergence. Consider increasing max_iter to improve the fit.\n",
      "  warnings.warn(\n",
      "C:\\Users\\Public\\anaconda3\\envs\\tm\\lib\\site-packages\\sklearn\\linear_model\\_stochastic_gradient.py:705: ConvergenceWarning: Maximum number of iteration reached before convergence. Consider increasing max_iter to improve the fit.\n",
      "  warnings.warn(\n",
      "C:\\Users\\Public\\anaconda3\\envs\\tm\\lib\\site-packages\\sklearn\\linear_model\\_stochastic_gradient.py:705: ConvergenceWarning: Maximum number of iteration reached before convergence. Consider increasing max_iter to improve the fit.\n",
      "  warnings.warn(\n",
      "C:\\Users\\Public\\anaconda3\\envs\\tm\\lib\\site-packages\\sklearn\\linear_model\\_stochastic_gradient.py:705: ConvergenceWarning: Maximum number of iteration reached before convergence. Consider increasing max_iter to improve the fit.\n",
      "  warnings.warn(\n",
      "C:\\Users\\Public\\anaconda3\\envs\\tm\\lib\\site-packages\\sklearn\\linear_model\\_stochastic_gradient.py:705: ConvergenceWarning: Maximum number of iteration reached before convergence. Consider increasing max_iter to improve the fit.\n",
      "  warnings.warn(\n",
      "C:\\Users\\Public\\anaconda3\\envs\\tm\\lib\\site-packages\\sklearn\\linear_model\\_stochastic_gradient.py:705: ConvergenceWarning: Maximum number of iteration reached before convergence. Consider increasing max_iter to improve the fit.\n",
      "  warnings.warn(\n",
      "C:\\Users\\Public\\anaconda3\\envs\\tm\\lib\\site-packages\\sklearn\\linear_model\\_stochastic_gradient.py:705: ConvergenceWarning: Maximum number of iteration reached before convergence. Consider increasing max_iter to improve the fit.\n",
      "  warnings.warn(\n",
      "C:\\Users\\Public\\anaconda3\\envs\\tm\\lib\\site-packages\\sklearn\\linear_model\\_stochastic_gradient.py:705: ConvergenceWarning: Maximum number of iteration reached before convergence. Consider increasing max_iter to improve the fit.\n",
      "  warnings.warn(\n",
      "C:\\Users\\Public\\anaconda3\\envs\\tm\\lib\\site-packages\\sklearn\\linear_model\\_stochastic_gradient.py:705: ConvergenceWarning: Maximum number of iteration reached before convergence. Consider increasing max_iter to improve the fit.\n",
      "  warnings.warn(\n",
      "C:\\Users\\Public\\anaconda3\\envs\\tm\\lib\\site-packages\\sklearn\\linear_model\\_stochastic_gradient.py:705: ConvergenceWarning: Maximum number of iteration reached before convergence. Consider increasing max_iter to improve the fit.\n",
      "  warnings.warn(\n",
      "C:\\Users\\Public\\anaconda3\\envs\\tm\\lib\\site-packages\\sklearn\\linear_model\\_stochastic_gradient.py:705: ConvergenceWarning: Maximum number of iteration reached before convergence. Consider increasing max_iter to improve the fit.\n",
      "  warnings.warn(\n",
      "C:\\Users\\Public\\anaconda3\\envs\\tm\\lib\\site-packages\\sklearn\\linear_model\\_stochastic_gradient.py:705: ConvergenceWarning: Maximum number of iteration reached before convergence. Consider increasing max_iter to improve the fit.\n",
      "  warnings.warn(\n",
      "C:\\Users\\Public\\anaconda3\\envs\\tm\\lib\\site-packages\\sklearn\\linear_model\\_stochastic_gradient.py:705: ConvergenceWarning: Maximum number of iteration reached before convergence. Consider increasing max_iter to improve the fit.\n",
      "  warnings.warn(\n",
      "C:\\Users\\Public\\anaconda3\\envs\\tm\\lib\\site-packages\\sklearn\\linear_model\\_stochastic_gradient.py:705: ConvergenceWarning: Maximum number of iteration reached before convergence. Consider increasing max_iter to improve the fit.\n",
      "  warnings.warn(\n",
      "C:\\Users\\Public\\anaconda3\\envs\\tm\\lib\\site-packages\\sklearn\\linear_model\\_stochastic_gradient.py:705: ConvergenceWarning: Maximum number of iteration reached before convergence. Consider increasing max_iter to improve the fit.\n",
      "  warnings.warn(\n",
      "C:\\Users\\Public\\anaconda3\\envs\\tm\\lib\\site-packages\\sklearn\\linear_model\\_stochastic_gradient.py:705: ConvergenceWarning: Maximum number of iteration reached before convergence. Consider increasing max_iter to improve the fit.\n",
      "  warnings.warn(\n",
      "C:\\Users\\Public\\anaconda3\\envs\\tm\\lib\\site-packages\\sklearn\\linear_model\\_stochastic_gradient.py:705: ConvergenceWarning: Maximum number of iteration reached before convergence. Consider increasing max_iter to improve the fit.\n",
      "  warnings.warn(\n"
     ]
    },
    {
     "name": "stderr",
     "output_type": "stream",
     "text": [
      "C:\\Users\\Public\\anaconda3\\envs\\tm\\lib\\site-packages\\sklearn\\linear_model\\_stochastic_gradient.py:705: ConvergenceWarning: Maximum number of iteration reached before convergence. Consider increasing max_iter to improve the fit.\n",
      "  warnings.warn(\n",
      "C:\\Users\\Public\\anaconda3\\envs\\tm\\lib\\site-packages\\sklearn\\linear_model\\_stochastic_gradient.py:705: ConvergenceWarning: Maximum number of iteration reached before convergence. Consider increasing max_iter to improve the fit.\n",
      "  warnings.warn(\n",
      "C:\\Users\\Public\\anaconda3\\envs\\tm\\lib\\site-packages\\sklearn\\linear_model\\_stochastic_gradient.py:705: ConvergenceWarning: Maximum number of iteration reached before convergence. Consider increasing max_iter to improve the fit.\n",
      "  warnings.warn(\n",
      "C:\\Users\\Public\\anaconda3\\envs\\tm\\lib\\site-packages\\sklearn\\linear_model\\_stochastic_gradient.py:705: ConvergenceWarning: Maximum number of iteration reached before convergence. Consider increasing max_iter to improve the fit.\n",
      "  warnings.warn(\n",
      "C:\\Users\\Public\\anaconda3\\envs\\tm\\lib\\site-packages\\sklearn\\linear_model\\_stochastic_gradient.py:705: ConvergenceWarning: Maximum number of iteration reached before convergence. Consider increasing max_iter to improve the fit.\n",
      "  warnings.warn(\n",
      "C:\\Users\\Public\\anaconda3\\envs\\tm\\lib\\site-packages\\sklearn\\linear_model\\_stochastic_gradient.py:705: ConvergenceWarning: Maximum number of iteration reached before convergence. Consider increasing max_iter to improve the fit.\n",
      "  warnings.warn(\n",
      "C:\\Users\\Public\\anaconda3\\envs\\tm\\lib\\site-packages\\sklearn\\linear_model\\_stochastic_gradient.py:705: ConvergenceWarning: Maximum number of iteration reached before convergence. Consider increasing max_iter to improve the fit.\n",
      "  warnings.warn(\n",
      "C:\\Users\\Public\\anaconda3\\envs\\tm\\lib\\site-packages\\sklearn\\linear_model\\_stochastic_gradient.py:705: ConvergenceWarning: Maximum number of iteration reached before convergence. Consider increasing max_iter to improve the fit.\n",
      "  warnings.warn(\n",
      "C:\\Users\\Public\\anaconda3\\envs\\tm\\lib\\site-packages\\sklearn\\linear_model\\_stochastic_gradient.py:705: ConvergenceWarning: Maximum number of iteration reached before convergence. Consider increasing max_iter to improve the fit.\n",
      "  warnings.warn(\n",
      "C:\\Users\\Public\\anaconda3\\envs\\tm\\lib\\site-packages\\sklearn\\linear_model\\_stochastic_gradient.py:705: ConvergenceWarning: Maximum number of iteration reached before convergence. Consider increasing max_iter to improve the fit.\n",
      "  warnings.warn(\n",
      "C:\\Users\\Public\\anaconda3\\envs\\tm\\lib\\site-packages\\sklearn\\linear_model\\_stochastic_gradient.py:705: ConvergenceWarning: Maximum number of iteration reached before convergence. Consider increasing max_iter to improve the fit.\n",
      "  warnings.warn(\n"
     ]
    },
    {
     "data": {
      "text/html": [
       "<style>#sk-container-id-1 {color: black;background-color: white;}#sk-container-id-1 pre{padding: 0;}#sk-container-id-1 div.sk-toggleable {background-color: white;}#sk-container-id-1 label.sk-toggleable__label {cursor: pointer;display: block;width: 100%;margin-bottom: 0;padding: 0.3em;box-sizing: border-box;text-align: center;}#sk-container-id-1 label.sk-toggleable__label-arrow:before {content: \"▸\";float: left;margin-right: 0.25em;color: #696969;}#sk-container-id-1 label.sk-toggleable__label-arrow:hover:before {color: black;}#sk-container-id-1 div.sk-estimator:hover label.sk-toggleable__label-arrow:before {color: black;}#sk-container-id-1 div.sk-toggleable__content {max-height: 0;max-width: 0;overflow: hidden;text-align: left;background-color: #f0f8ff;}#sk-container-id-1 div.sk-toggleable__content pre {margin: 0.2em;color: black;border-radius: 0.25em;background-color: #f0f8ff;}#sk-container-id-1 input.sk-toggleable__control:checked~div.sk-toggleable__content {max-height: 200px;max-width: 100%;overflow: auto;}#sk-container-id-1 input.sk-toggleable__control:checked~label.sk-toggleable__label-arrow:before {content: \"▾\";}#sk-container-id-1 div.sk-estimator input.sk-toggleable__control:checked~label.sk-toggleable__label {background-color: #d4ebff;}#sk-container-id-1 div.sk-label input.sk-toggleable__control:checked~label.sk-toggleable__label {background-color: #d4ebff;}#sk-container-id-1 input.sk-hidden--visually {border: 0;clip: rect(1px 1px 1px 1px);clip: rect(1px, 1px, 1px, 1px);height: 1px;margin: -1px;overflow: hidden;padding: 0;position: absolute;width: 1px;}#sk-container-id-1 div.sk-estimator {font-family: monospace;background-color: #f0f8ff;border: 1px dotted black;border-radius: 0.25em;box-sizing: border-box;margin-bottom: 0.5em;}#sk-container-id-1 div.sk-estimator:hover {background-color: #d4ebff;}#sk-container-id-1 div.sk-parallel-item::after {content: \"\";width: 100%;border-bottom: 1px solid gray;flex-grow: 1;}#sk-container-id-1 div.sk-label:hover label.sk-toggleable__label {background-color: #d4ebff;}#sk-container-id-1 div.sk-serial::before {content: \"\";position: absolute;border-left: 1px solid gray;box-sizing: border-box;top: 0;bottom: 0;left: 50%;z-index: 0;}#sk-container-id-1 div.sk-serial {display: flex;flex-direction: column;align-items: center;background-color: white;padding-right: 0.2em;padding-left: 0.2em;position: relative;}#sk-container-id-1 div.sk-item {position: relative;z-index: 1;}#sk-container-id-1 div.sk-parallel {display: flex;align-items: stretch;justify-content: center;background-color: white;position: relative;}#sk-container-id-1 div.sk-item::before, #sk-container-id-1 div.sk-parallel-item::before {content: \"\";position: absolute;border-left: 1px solid gray;box-sizing: border-box;top: 0;bottom: 0;left: 50%;z-index: -1;}#sk-container-id-1 div.sk-parallel-item {display: flex;flex-direction: column;z-index: 1;position: relative;background-color: white;}#sk-container-id-1 div.sk-parallel-item:first-child::after {align-self: flex-end;width: 50%;}#sk-container-id-1 div.sk-parallel-item:last-child::after {align-self: flex-start;width: 50%;}#sk-container-id-1 div.sk-parallel-item:only-child::after {width: 0;}#sk-container-id-1 div.sk-dashed-wrapped {border: 1px dashed gray;margin: 0 0.4em 0.5em 0.4em;box-sizing: border-box;padding-bottom: 0.4em;background-color: white;}#sk-container-id-1 div.sk-label label {font-family: monospace;font-weight: bold;display: inline-block;line-height: 1.2em;}#sk-container-id-1 div.sk-label-container {text-align: center;}#sk-container-id-1 div.sk-container {/* jupyter's `normalize.less` sets `[hidden] { display: none; }` but bootstrap.min.css set `[hidden] { display: none !important; }` so we also need the `!important` here to be able to override the default hidden behavior on the sphinx rendered scikit-learn.org. See: https://github.com/scikit-learn/scikit-learn/issues/21755 */display: inline-block !important;position: relative;}#sk-container-id-1 div.sk-text-repr-fallback {display: none;}</style><div id=\"sk-container-id-1\" class=\"sk-top-container\"><div class=\"sk-text-repr-fallback\"><pre>GridSearchCV(cv=5,\n",
       "             estimator=Pipeline(steps=[(&#x27;vectorizer&#x27;, TfidfVectorizer()),\n",
       "                                       (&#x27;SGD&#x27;, SGDClassifier())]),\n",
       "             param_grid={&#x27;SGD__l1_ratio&#x27;: [0.2, 0.5, 0.9],\n",
       "                         &#x27;SGD__loss&#x27;: [&#x27;huber&#x27;, &#x27;modified_huber&#x27;, &#x27;hinge&#x27;,\n",
       "                                       &#x27;squared_hinge&#x27;],\n",
       "                         &#x27;SGD__penalty&#x27;: [&#x27;l1&#x27;, &#x27;l2&#x27;, &#x27;elasticnet&#x27;],\n",
       "                         &#x27;vectorizer__ngram_range&#x27;: [(1, 1), (1, 2)]},\n",
       "             scoring=&#x27;accuracy&#x27;)</pre><b>In a Jupyter environment, please rerun this cell to show the HTML representation or trust the notebook. <br />On GitHub, the HTML representation is unable to render, please try loading this page with nbviewer.org.</b></div><div class=\"sk-container\" hidden><div class=\"sk-item sk-dashed-wrapped\"><div class=\"sk-label-container\"><div class=\"sk-label sk-toggleable\"><input class=\"sk-toggleable__control sk-hidden--visually\" id=\"sk-estimator-id-1\" type=\"checkbox\" ><label for=\"sk-estimator-id-1\" class=\"sk-toggleable__label sk-toggleable__label-arrow\">GridSearchCV</label><div class=\"sk-toggleable__content\"><pre>GridSearchCV(cv=5,\n",
       "             estimator=Pipeline(steps=[(&#x27;vectorizer&#x27;, TfidfVectorizer()),\n",
       "                                       (&#x27;SGD&#x27;, SGDClassifier())]),\n",
       "             param_grid={&#x27;SGD__l1_ratio&#x27;: [0.2, 0.5, 0.9],\n",
       "                         &#x27;SGD__loss&#x27;: [&#x27;huber&#x27;, &#x27;modified_huber&#x27;, &#x27;hinge&#x27;,\n",
       "                                       &#x27;squared_hinge&#x27;],\n",
       "                         &#x27;SGD__penalty&#x27;: [&#x27;l1&#x27;, &#x27;l2&#x27;, &#x27;elasticnet&#x27;],\n",
       "                         &#x27;vectorizer__ngram_range&#x27;: [(1, 1), (1, 2)]},\n",
       "             scoring=&#x27;accuracy&#x27;)</pre></div></div></div><div class=\"sk-parallel\"><div class=\"sk-parallel-item\"><div class=\"sk-item\"><div class=\"sk-label-container\"><div class=\"sk-label sk-toggleable\"><input class=\"sk-toggleable__control sk-hidden--visually\" id=\"sk-estimator-id-2\" type=\"checkbox\" ><label for=\"sk-estimator-id-2\" class=\"sk-toggleable__label sk-toggleable__label-arrow\">estimator: Pipeline</label><div class=\"sk-toggleable__content\"><pre>Pipeline(steps=[(&#x27;vectorizer&#x27;, TfidfVectorizer()), (&#x27;SGD&#x27;, SGDClassifier())])</pre></div></div></div><div class=\"sk-serial\"><div class=\"sk-item\"><div class=\"sk-serial\"><div class=\"sk-item\"><div class=\"sk-estimator sk-toggleable\"><input class=\"sk-toggleable__control sk-hidden--visually\" id=\"sk-estimator-id-3\" type=\"checkbox\" ><label for=\"sk-estimator-id-3\" class=\"sk-toggleable__label sk-toggleable__label-arrow\">TfidfVectorizer</label><div class=\"sk-toggleable__content\"><pre>TfidfVectorizer()</pre></div></div></div><div class=\"sk-item\"><div class=\"sk-estimator sk-toggleable\"><input class=\"sk-toggleable__control sk-hidden--visually\" id=\"sk-estimator-id-4\" type=\"checkbox\" ><label for=\"sk-estimator-id-4\" class=\"sk-toggleable__label sk-toggleable__label-arrow\">SGDClassifier</label><div class=\"sk-toggleable__content\"><pre>SGDClassifier()</pre></div></div></div></div></div></div></div></div></div></div></div></div>"
      ],
      "text/plain": [
       "GridSearchCV(cv=5,\n",
       "             estimator=Pipeline(steps=[('vectorizer', TfidfVectorizer()),\n",
       "                                       ('SGD', SGDClassifier())]),\n",
       "             param_grid={'SGD__l1_ratio': [0.2, 0.5, 0.9],\n",
       "                         'SGD__loss': ['huber', 'modified_huber', 'hinge',\n",
       "                                       'squared_hinge'],\n",
       "                         'SGD__penalty': ['l1', 'l2', 'elasticnet'],\n",
       "                         'vectorizer__ngram_range': [(1, 1), (1, 2)]},\n",
       "             scoring='accuracy')"
      ]
     },
     "execution_count": 140,
     "metadata": {},
     "output_type": "execute_result"
    }
   ],
   "source": [
    "from sklearn.model_selection import GridSearchCV\n",
    "# set random seed\n",
    "np.random.seed(42)\n",
    "\n",
    "\n",
    "# Model\n",
    "pipe = Pipeline([('vectorizer', TfidfVectorizer()), ('SGD', SGDClassifier())])\n",
    "\n",
    "# Parameters\n",
    "parameters = {'vectorizer__ngram_range':[(1, 1), (1, 2)],\n",
    "             'SGD__loss':['huber', 'modified_huber', 'hinge', 'squared_hinge'],\n",
    "             'SGD__l1_ratio':[0.2, 0.5, 0.9],\n",
    "             'SGD__penalty':['l1', 'l2', 'elasticnet']}\n",
    "\n",
    "# Grid Search Implementation\n",
    "search = GridSearchCV(pipe, parameters, cv = 5, scoring = 'accuracy')\n",
    "search.fit(X, y)"
   ]
  },
  {
   "cell_type": "code",
   "execution_count": 142,
   "id": "f9652226",
   "metadata": {
    "scrolled": true
   },
   "outputs": [
    {
     "data": {
      "text/plain": [
       "{'SGD__l1_ratio': 0.9,\n",
       " 'SGD__loss': 'modified_huber',\n",
       " 'SGD__penalty': 'elasticnet',\n",
       " 'vectorizer__ngram_range': (1, 2)}"
      ]
     },
     "execution_count": 142,
     "metadata": {},
     "output_type": "execute_result"
    }
   ],
   "source": [
    "# The best parameters after Grid Search\n",
    "search.best_params_"
   ]
  },
  {
   "cell_type": "markdown",
   "id": "273bc344",
   "metadata": {},
   "source": [
    "## Data Pre-processing for Keras"
   ]
  },
  {
   "cell_type": "code",
   "execution_count": 7,
   "id": "c40f2963",
   "metadata": {},
   "outputs": [],
   "source": [
    "from tensorflow.keras.layers import TextVectorization\n",
    "\n",
    "# Find the length of the longest tweet to fix size of each sequence\n",
    "max_sentence_length = X_train.apply(lambda x: len(x)).max()\n",
    "\n",
    "# use TextVectorization Layer from Keras to build a vocabulary\n",
    "text_vec = TextVectorization(output_mode = 'int', output_sequence_length = 142)\n",
    "text_vec.adapt(X_train)\n",
    "\n",
    "# get the whole learned vocabulary\n",
    "vocabulary = text_vec.get_vocabulary()\n",
    "# create index >> word type of vocabulary\n",
    "indexed_vocabulary = dict(enumerate(vocabulary)) "
   ]
  },
  {
   "cell_type": "code",
   "execution_count": 8,
   "id": "75c04d86",
   "metadata": {},
   "outputs": [],
   "source": [
    "from sklearn.preprocessing import LabelEncoder\n",
    "\n",
    "# Mapping each tweet into a list of indices (corresponding to the words in vocabulary)\n",
    "X_train_encoded = text_vec(X_train).numpy()\n",
    "X_valid_encoded = text_vec(X_valid).numpy()\n",
    "X_test_encoded = text_vec(X_test).numpy()\n",
    "\n",
    "# One-Hot Encoding of labels\n",
    "label_encoder = LabelEncoder()\n",
    "\n",
    "# Encoded Train labels\n",
    "y_train_encoded = label_encoder.fit_transform(y_train)\n",
    "y_train_encoded = tf.keras.utils.to_categorical(y_train_encoded)\n",
    "\n",
    "# Encoded Validation Labels\n",
    "y_valid_encoded = label_encoder.fit_transform(y_valid)\n",
    "y_valid_encoded = tf.keras.utils.to_categorical(y_valid_encoded)\n",
    "\n",
    "# Encoded Test Labels\n",
    "y_test_encoded = label_encoder.fit_transform(y_test)\n",
    "y_test_encoded = tf.keras.utils.to_categorical(y_test_encoded)\n",
    "\n",
    "# label_encoder.classes_\n",
    "# 0 - negative, 1 - neutral, 2 - positive"
   ]
  },
  {
   "cell_type": "markdown",
   "id": "2f24f1f7",
   "metadata": {},
   "source": [
    "## LSTM trained Embeddings"
   ]
  },
  {
   "cell_type": "code",
   "execution_count": 148,
   "id": "ad0c3e79",
   "metadata": {},
   "outputs": [],
   "source": [
    "from tensorflow import keras\n",
    "from keras.models import Sequential\n",
    "from keras.layers import Embedding, LSTM, Dense\n",
    "from keras.callbacks import EarlyStopping, ModelCheckpoint\n",
    "\n",
    "# Find the length of vocabulary\n",
    "vocab_length = len(text_vec.get_vocabulary())\n",
    "\n",
    "# Model architecture\n",
    "model = Sequential([ # Note that in Embedding() output_dim = 100 because pre-trained embeddings will have the same size\n",
    "                   Embedding(input_dim = vocab_length, output_dim = 100, mask_zero = True),\n",
    "                   LSTM(64, activation = 'relu'),\n",
    "                   Dense(64, activation='relu'),\n",
    "                   Dense(3, activation='softmax')])\n",
    "\n",
    "# Compilation parameters\n",
    "model.compile(optimizer = 'adam', loss = 'categorical_crossentropy', metrics = ['accuracy'])\n",
    "\n",
    "# Callbacks\n",
    "early_stopping = EarlyStopping(monitor = 'val_loss', patience = 3, mode = 'min')\n",
    "save_best_model = ModelCheckpoint('lstm_trained_embd.keras', save_best_only = True)"
   ]
  },
  {
   "cell_type": "code",
   "execution_count": 149,
   "id": "e55e9e8c",
   "metadata": {
    "scrolled": false
   },
   "outputs": [
    {
     "name": "stdout",
     "output_type": "stream",
     "text": [
      "Model: \"sequential_16\"\n",
      "_________________________________________________________________\n",
      " Layer (type)                Output Shape              Param #   \n",
      "=================================================================\n",
      " embedding_16 (Embedding)    (None, None, 100)         1878400   \n",
      "                                                                 \n",
      " lstm_16 (LSTM)              (None, 64)                42240     \n",
      "                                                                 \n",
      " dense_31 (Dense)            (None, 64)                4160      \n",
      "                                                                 \n",
      " dense_32 (Dense)            (None, 3)                 195       \n",
      "                                                                 \n",
      "=================================================================\n",
      "Total params: 1,924,995\n",
      "Trainable params: 1,924,995\n",
      "Non-trainable params: 0\n",
      "_________________________________________________________________\n"
     ]
    }
   ],
   "source": [
    "model.summary()"
   ]
  },
  {
   "cell_type": "code",
   "execution_count": 150,
   "id": "3f941a85",
   "metadata": {
    "scrolled": false
   },
   "outputs": [
    {
     "name": "stdout",
     "output_type": "stream",
     "text": [
      "Epoch 1/20\n",
      "301/301 [==============================] - 31s 88ms/step - loss: 0.8673 - accuracy: 0.6018 - val_loss: 0.7148 - val_accuracy: 0.7028\n",
      "Epoch 2/20\n",
      "301/301 [==============================] - 25s 84ms/step - loss: 0.5600 - accuracy: 0.7792 - val_loss: 0.7230 - val_accuracy: 0.6994\n",
      "Epoch 3/20\n",
      "301/301 [==============================] - 25s 84ms/step - loss: 0.3833 - accuracy: 0.8581 - val_loss: 0.8282 - val_accuracy: 0.6891\n",
      "Epoch 4/20\n",
      "301/301 [==============================] - 26s 85ms/step - loss: 0.2784 - accuracy: 0.8999 - val_loss: 0.9486 - val_accuracy: 0.6716\n"
     ]
    }
   ],
   "source": [
    "# Model Fit\n",
    "history1 = model.fit(X_train_encoded, y_train_encoded,\n",
    "                    epochs = 20,\n",
    "                    validation_data = (X_valid_encoded, y_valid_encoded),\n",
    "                    batch_size = 64, \n",
    "                    callbacks = [early_stopping, save_best_model])"
   ]
  },
  {
   "cell_type": "code",
   "execution_count": 152,
   "id": "ba957675",
   "metadata": {
    "scrolled": false
   },
   "outputs": [
    {
     "name": "stdout",
     "output_type": "stream",
     "text": [
      "111/111 [==============================] - 3s 21ms/step\n",
      "              precision    recall  f1-score   support\n",
      "\n",
      "           0       0.73      0.64      0.68      1001\n",
      "           1       0.64      0.74      0.68      1426\n",
      "           2       0.79      0.72      0.76      1102\n",
      "\n",
      "    accuracy                           0.71      3529\n",
      "   macro avg       0.72      0.70      0.71      3529\n",
      "weighted avg       0.71      0.71      0.71      3529\n",
      "\n"
     ]
    }
   ],
   "source": [
    "from keras.models import load_model\n",
    "\n",
    "# Load the best performing model\n",
    "model = load_model('lstm_trained_embd.keras')\n",
    "# Predict with loaded model\n",
    "y_p = model.predict(X_test_encoded)\n",
    "# Output evaluation metrics\n",
    "print(classification_report(y_test_encoded.argmax(axis = 1), y_p.argmax(axis = 1)))"
   ]
  },
  {
   "cell_type": "markdown",
   "id": "4c4f6183",
   "metadata": {},
   "source": [
    "## Improting GloVe Pre-trained Embeddings"
   ]
  },
  {
   "cell_type": "code",
   "execution_count": 21,
   "id": "54a848d6",
   "metadata": {},
   "outputs": [],
   "source": [
    "# Create a dictionary where each word and its embedding vector will be saved.\n",
    "embedding_dict = {}\n",
    "\n",
    "# Open GloVe file with words and embeddings\n",
    "with open('glove.twitter.27B/glove.twitter.27B.100d.txt', encoding=\"utf8\") as file:\n",
    "    for line in file:\n",
    "        # Split only words and embeddings in a given line by setting maxsplit = 1\n",
    "        word, embeddings = line.split(maxsplit = 1)\n",
    "        # convert an embedding vector from 'str' to 'f' format\n",
    "        embeddings = np.fromstring(embeddings, dtype = 'f', sep = ' ')\n",
    "        # save to dictionary\n",
    "        embedding_dict[word] = embeddings"
   ]
  },
  {
   "cell_type": "code",
   "execution_count": 22,
   "id": "9fbb62f9",
   "metadata": {
    "scrolled": true
   },
   "outputs": [
    {
     "data": {
      "text/plain": [
       "1193514"
      ]
     },
     "execution_count": 22,
     "metadata": {},
     "output_type": "execute_result"
    }
   ],
   "source": [
    "# Number of words with pre-trained embeddings\n",
    "len(embedding_dict)"
   ]
  },
  {
   "cell_type": "code",
   "execution_count": 23,
   "id": "87703a4c",
   "metadata": {
    "scrolled": false
   },
   "outputs": [],
   "source": [
    "# Specify dimension of embedding vector\n",
    "emb_dim = 100\n",
    "\n",
    "# Create an empty embedding matrix\n",
    "embedding_matrix = np.zeros(shape  = (vocab_length, emb_dim))\n",
    "\n",
    "# For each index and word in vocabulary find its embedding vector from embedding dictionary (defined above)\n",
    "for index, word in indexed_vocabulary.items():\n",
    "    \n",
    "    # If index is less than vocabulary size, extract embedding vector corresponding to the word under this index\n",
    "    if index < vocab_length:\n",
    "        embedding_vector = embedding_dict.get(word)\n",
    "    \n",
    "    # If None (the word not found in embedding dictionary), then it will be filled with zeros\n",
    "    if embedding_vector is not None:\n",
    "        embedding_matrix[index] = embedding_vector"
   ]
  },
  {
   "cell_type": "code",
   "execution_count": 343,
   "id": "5587adad",
   "metadata": {},
   "outputs": [
    {
     "name": "stdout",
     "output_type": "stream",
     "text": [
      "Vocabulary size = 18784\n"
     ]
    }
   ],
   "source": [
    "print(f'Vocabulary size = {vocab_length}')"
   ]
  },
  {
   "cell_type": "code",
   "execution_count": 24,
   "id": "7e5ae9c8",
   "metadata": {},
   "outputs": [
    {
     "data": {
      "text/plain": [
       "(18784, 100)"
      ]
     },
     "execution_count": 24,
     "metadata": {},
     "output_type": "execute_result"
    }
   ],
   "source": [
    "# For each word in vocabulary, its (100, 1) - dimensional embedding vector is found\n",
    "embedding_matrix.shape"
   ]
  },
  {
   "cell_type": "markdown",
   "id": "3b7a429d",
   "metadata": {},
   "source": [
    "## LSTM with Pre-Trained Embeddings"
   ]
  },
  {
   "cell_type": "code",
   "execution_count": 153,
   "id": "94fe024a",
   "metadata": {},
   "outputs": [],
   "source": [
    "from keras.initializers import Constant\n",
    "\n",
    "# Model architecture\n",
    "model = Sequential([\n",
    "                   Embedding(input_dim = vocab_length, output_dim = emb_dim,\n",
    "                             # Initialize embeddings with embedding matrix (from GloVe)\n",
    "                             embeddings_initializer = Constant(embedding_matrix),\n",
    "                             mask_zero = True,\n",
    "                             trainable = False),\n",
    "                   LSTM(64, activation = 'relu'),\n",
    "                   Dense(64, activation='relu'),\n",
    "                   Dense(3, activation='softmax')])\n",
    "\n",
    "# Compilation parameters\n",
    "model.compile(optimizer = 'adam', loss = 'categorical_crossentropy', metrics = ['accuracy'])\n",
    "\n",
    "# Callbacks\n",
    "early_stopping = EarlyStopping(monitor = 'val_loss', patience = 3, mode = 'min')\n",
    "save_best_model = ModelCheckpoint('lstm_pre_trained_embd.keras', save_best_only = True)"
   ]
  },
  {
   "cell_type": "code",
   "execution_count": 154,
   "id": "3eb6dff9",
   "metadata": {},
   "outputs": [
    {
     "name": "stdout",
     "output_type": "stream",
     "text": [
      "Model: \"sequential_17\"\n",
      "_________________________________________________________________\n",
      " Layer (type)                Output Shape              Param #   \n",
      "=================================================================\n",
      " embedding_17 (Embedding)    (None, None, 100)         1878400   \n",
      "                                                                 \n",
      " lstm_17 (LSTM)              (None, 64)                42240     \n",
      "                                                                 \n",
      " dense_33 (Dense)            (None, 64)                4160      \n",
      "                                                                 \n",
      " dense_34 (Dense)            (None, 3)                 195       \n",
      "                                                                 \n",
      "=================================================================\n",
      "Total params: 1,924,995\n",
      "Trainable params: 46,595\n",
      "Non-trainable params: 1,878,400\n",
      "_________________________________________________________________\n"
     ]
    }
   ],
   "source": [
    "model.summary()"
   ]
  },
  {
   "cell_type": "code",
   "execution_count": 155,
   "id": "3b32c7a0",
   "metadata": {},
   "outputs": [
    {
     "name": "stdout",
     "output_type": "stream",
     "text": [
      "Epoch 1/20\n",
      "301/301 [==============================] - 30s 88ms/step - loss: 0.8258 - accuracy: 0.6218 - val_loss: 0.7156 - val_accuracy: 0.6965\n",
      "Epoch 2/20\n",
      "301/301 [==============================] - 26s 86ms/step - loss: 0.6733 - accuracy: 0.7116 - val_loss: 0.6701 - val_accuracy: 0.7181\n",
      "Epoch 3/20\n",
      "301/301 [==============================] - 27s 89ms/step - loss: 0.6249 - accuracy: 0.7366 - val_loss: 0.6573 - val_accuracy: 0.7250\n",
      "Epoch 4/20\n",
      "301/301 [==============================] - 27s 91ms/step - loss: 0.5911 - accuracy: 0.7522 - val_loss: 0.6474 - val_accuracy: 0.7337\n",
      "Epoch 5/20\n",
      "301/301 [==============================] - 25s 84ms/step - loss: 0.5622 - accuracy: 0.7642 - val_loss: 0.6494 - val_accuracy: 0.7313\n",
      "Epoch 6/20\n",
      "301/301 [==============================] - 24s 81ms/step - loss: 0.5330 - accuracy: 0.7792 - val_loss: 0.6538 - val_accuracy: 0.7367\n",
      "Epoch 7/20\n",
      "301/301 [==============================] - 25s 84ms/step - loss: 0.5048 - accuracy: 0.7930 - val_loss: 0.6628 - val_accuracy: 0.7313\n"
     ]
    }
   ],
   "source": [
    "# Model Fit\n",
    "history2 = model.fit(X_train_encoded, y_train_encoded,\n",
    "                    epochs = 20,\n",
    "                    validation_data = (X_valid_encoded, y_valid_encoded),\n",
    "                    batch_size = 64, \n",
    "                    callbacks = [early_stopping, save_best_model])\n"
   ]
  },
  {
   "cell_type": "code",
   "execution_count": 156,
   "id": "97481a99",
   "metadata": {},
   "outputs": [
    {
     "name": "stdout",
     "output_type": "stream",
     "text": [
      "111/111 [==============================] - 3s 20ms/step\n",
      "              precision    recall  f1-score   support\n",
      "\n",
      "           0       0.72      0.69      0.70      1001\n",
      "           1       0.68      0.73      0.70      1426\n",
      "           2       0.80      0.77      0.79      1102\n",
      "\n",
      "    accuracy                           0.73      3529\n",
      "   macro avg       0.74      0.73      0.73      3529\n",
      "weighted avg       0.73      0.73      0.73      3529\n",
      "\n"
     ]
    }
   ],
   "source": [
    "# Load the best performing model\n",
    "model = load_model('lstm_pre_trained_embd.keras')\n",
    "# Predict with loaded model\n",
    "y_p = model.predict(X_test_encoded)\n",
    "# Output evaluation metrics\n",
    "print(classification_report(y_test_encoded.argmax(axis = 1), y_p.argmax(axis = 1)))"
   ]
  },
  {
   "cell_type": "markdown",
   "id": "b0ba73c8",
   "metadata": {},
   "source": [
    "## LSTM with Re-Trained Embeddings"
   ]
  },
  {
   "cell_type": "code",
   "execution_count": 157,
   "id": "e0ba3a42",
   "metadata": {},
   "outputs": [],
   "source": [
    "# Model architecture\n",
    "model = Sequential([\n",
    "                   Embedding(input_dim = vocab_length, output_dim = emb_dim,\n",
    "                             # Initialize embeddings with embedding matrix (from GloVe)\n",
    "                             embeddings_initializer = Constant(embedding_matrix),\n",
    "                             mask_zero = True,\n",
    "                             trainable = True), # Set trainable = True, to re-train GloVe embeddings\n",
    "                   LSTM(64, activation = 'relu'),\n",
    "                   Dense(64, activation='relu'),\n",
    "                   Dense(3, activation='softmax')])\n",
    "\n",
    "# Compilation Parameters\n",
    "model.compile(optimizer = 'adam', loss = 'categorical_crossentropy', metrics = ['accuracy'])\n",
    "\n",
    "# Callbacks\n",
    "early_stopping = EarlyStopping(monitor = 'val_loss', patience = 3, mode = 'min')\n",
    "save_best_model = ModelCheckpoint('lstm_re_trained_embd.keras', save_best_only = True)"
   ]
  },
  {
   "cell_type": "code",
   "execution_count": 158,
   "id": "f22b7843",
   "metadata": {},
   "outputs": [
    {
     "name": "stdout",
     "output_type": "stream",
     "text": [
      "Model: \"sequential_18\"\n",
      "_________________________________________________________________\n",
      " Layer (type)                Output Shape              Param #   \n",
      "=================================================================\n",
      " embedding_18 (Embedding)    (None, None, 100)         1878400   \n",
      "                                                                 \n",
      " lstm_18 (LSTM)              (None, 64)                42240     \n",
      "                                                                 \n",
      " dense_35 (Dense)            (None, 64)                4160      \n",
      "                                                                 \n",
      " dense_36 (Dense)            (None, 3)                 195       \n",
      "                                                                 \n",
      "=================================================================\n",
      "Total params: 1,924,995\n",
      "Trainable params: 1,924,995\n",
      "Non-trainable params: 0\n",
      "_________________________________________________________________\n"
     ]
    }
   ],
   "source": [
    "model.summary()"
   ]
  },
  {
   "cell_type": "code",
   "execution_count": 159,
   "id": "1fa0b230",
   "metadata": {
    "scrolled": true
   },
   "outputs": [
    {
     "name": "stdout",
     "output_type": "stream",
     "text": [
      "Epoch 1/20\n",
      "301/301 [==============================] - 38s 110ms/step - loss: 0.7938 - accuracy: 0.6430 - val_loss: 0.6722 - val_accuracy: 0.7189\n",
      "Epoch 2/20\n",
      "301/301 [==============================] - 33s 108ms/step - loss: 0.5864 - accuracy: 0.7581 - val_loss: 0.6297 - val_accuracy: 0.7436\n",
      "Epoch 3/20\n",
      "301/301 [==============================] - 31s 102ms/step - loss: 0.4809 - accuracy: 0.8105 - val_loss: 0.6504 - val_accuracy: 0.7362\n",
      "Epoch 4/20\n",
      "301/301 [==============================] - 30s 101ms/step - loss: 0.3780 - accuracy: 0.8563 - val_loss: 0.7126 - val_accuracy: 0.7322\n",
      "Epoch 5/20\n",
      "301/301 [==============================] - 31s 103ms/step - loss: 0.3219 - accuracy: 0.8865 - val_loss: 0.7857 - val_accuracy: 0.7232\n"
     ]
    }
   ],
   "source": [
    "# Model Fit\n",
    "history3 = model.fit(X_train_encoded, y_train_encoded,\n",
    "                    epochs = 20,\n",
    "                    validation_data = (X_valid_encoded, y_valid_encoded),\n",
    "                    batch_size = 64, \n",
    "                    callbacks = [early_stopping, save_best_model])\n"
   ]
  },
  {
   "cell_type": "code",
   "execution_count": 160,
   "id": "0bcb9ae9",
   "metadata": {
    "scrolled": true
   },
   "outputs": [
    {
     "name": "stdout",
     "output_type": "stream",
     "text": [
      "111/111 [==============================] - 3s 21ms/step\n",
      "              precision    recall  f1-score   support\n",
      "\n",
      "           0       0.76      0.70      0.73      1001\n",
      "           1       0.70      0.75      0.72      1426\n",
      "           2       0.81      0.78      0.80      1102\n",
      "\n",
      "    accuracy                           0.75      3529\n",
      "   macro avg       0.75      0.75      0.75      3529\n",
      "weighted avg       0.75      0.75      0.75      3529\n",
      "\n"
     ]
    }
   ],
   "source": [
    "# Load the best performing model\n",
    "model = load_model('lstm_re_trained_embd.keras')\n",
    "# Predict with loaded model\n",
    "y_p = model.predict(X_test_encoded)\n",
    "# Output evaluation metrics\n",
    "print(classification_report(y_test_encoded.argmax(axis = 1), y_p.argmax(axis = 1)))"
   ]
  },
  {
   "cell_type": "markdown",
   "id": "f7d88a7b",
   "metadata": {},
   "source": [
    "## Plotting Training and Validation Errors of Three Neural Models"
   ]
  },
  {
   "cell_type": "code",
   "execution_count": 339,
   "id": "164a7444",
   "metadata": {},
   "outputs": [
    {
     "data": {
      "image/png": "[encoded data removed]",
      "text/plain": [
       "<Figure size 1000x300 with 3 Axes>"
      ]
     },
     "metadata": {},
     "output_type": "display_data"
    }
   ],
   "source": [
    "epoch1 = range(1, len(history1.history['accuracy']) + 1)\n",
    "epoch2 = range(1, len(history2.history['accuracy']) + 1)\n",
    "epoch3 = range(1, len(history3.history['accuracy']) + 1)\n",
    "\n",
    "fig, ax = plt.subplots(nrows = 1, ncols = 3, figsize = (10, 3))\n",
    "\n",
    "# Trained Model\n",
    "ax[0].plot(epoch1, history1.history['accuracy'])\n",
    "ax[0].plot(epoch1, history1.history['val_accuracy'])\n",
    "ax[0].set_ylim(0, 1) \n",
    "ax[0].set_xlabel('Epoch #')\n",
    "ax[0].set_ylabel('Accuracy')\n",
    "ax[0].set_title('LSTM with Trained Embeddings', fontdict = {'fontsize':10})\n",
    "ax[0].legend(['Training Accuracy', 'Validation Accuracy'])\n",
    "\n",
    "# Pre-trained Model\n",
    "ax[1].plot(epoch2, history2.history['accuracy'])\n",
    "ax[1].plot(epoch2, history2.history['val_accuracy'])\n",
    "ax[1].set_ylim(0, 1)\n",
    "ax[1].set_xlabel('Epoch #')\n",
    "ax[1].set_ylabel('Accuracy')\n",
    "ax[1].set_title('LSTM with Pre-trained Embeddings', fontdict = {'fontsize':10})\n",
    "\n",
    "# Retrained Model\n",
    "ax[2].plot(epoch, history3.history['accuracy'])\n",
    "ax[2].plot(epoch, history3.history['val_accuracy'])\n",
    "ax[2].set_ylim(0, 1)\n",
    "ax[2].set_xlabel('Epoch #')\n",
    "ax[2].set_ylabel('Accuracy')\n",
    "ax[2].set_title('LSTM with Retrained Embeddings', fontdict = {'fontsize':10})\n",
    "\n",
    "plt.tight_layout()\n",
    "plt.savefig('performance_comparison.png', dpi = 200)"
   ]
  },
  {
   "cell_type": "markdown",
   "id": "bb4fdec4",
   "metadata": {},
   "source": [
    "## Out-of-hand Sentiment Analysis"
   ]
  },
  {
   "cell_type": "markdown",
   "id": "2e2edbeb",
   "metadata": {},
   "source": [
    "### Retrained LSTM"
   ]
  },
  {
   "cell_type": "code",
   "execution_count": 233,
   "id": "fa5fcb83",
   "metadata": {},
   "outputs": [
    {
     "name": "stdout",
     "output_type": "stream",
     "text": [
      "1/1 [==============================] - 0s 25ms/step\n"
     ]
    },
    {
     "data": {
      "text/plain": [
       "array([[0.544, 0.382, 0.074]], dtype=float32)"
      ]
     },
     "execution_count": 233,
     "metadata": {},
     "output_type": "execute_result"
    }
   ],
   "source": [
    "tweet = text_vec('I became stronger after going through many struggles').numpy().reshape(1,142)\n",
    "# 0 - negative, 1 - neutral, 2 - positive\n",
    "model.predict(tweet).round(3)"
   ]
  },
  {
   "cell_type": "markdown",
   "id": "17c5265a",
   "metadata": {},
   "source": [
    "1. had a bad day -[0.856, 0.13 , 0.014]  \n",
    "2. had so bad day - [0.889, 0.099, 0.013]  \n",
    "3. had a good day - [0.028, 0.07 , 0.903]  \n",
    "4. had so good day - [0.05 , 0.086, 0.863]  \n",
    "5. had sooo good day - [0.033, 0.048, 0.919]  \n",
    "6. What is the meaning of life? - [0.143, 0.765, 0.092]    \n",
    "7. Why this world is sometimes so hard to love - [0.29 , 0.332, 0.378]  \n",
    "8. I am greedy for knowledge - [0.616, 0.326, 0.057]  \n",
    "9. I became stronger after going through many struggles - [0.544, 0.382, 0.074]"
   ]
  },
  {
   "cell_type": "markdown",
   "id": "8fb35a75",
   "metadata": {},
   "source": [
    "### SVM Classifier"
   ]
  },
  {
   "cell_type": "code",
   "execution_count": 245,
   "id": "e926289b",
   "metadata": {
    "scrolled": false
   },
   "outputs": [
    {
     "data": {
      "text/plain": [
       "array([[0.22 , 0.568, 0.212]])"
      ]
     },
     "execution_count": 245,
     "metadata": {},
     "output_type": "execute_result"
    }
   ],
   "source": [
    "pipe.predict_proba(pd.Series(['I am greedy for knowledge'])).round(3)"
   ]
  },
  {
   "cell_type": "code",
   "execution_count": 247,
   "id": "cfa4da81",
   "metadata": {
    "scrolled": true
   },
   "outputs": [
    {
     "data": {
      "text/plain": [
       "array([[0.175, 0.685, 0.14 ]])"
      ]
     },
     "execution_count": 247,
     "metadata": {},
     "output_type": "execute_result"
    }
   ],
   "source": [
    "pipe.predict_proba(pd.Series(['I became stronger after going through many struggles'])).round(3)"
   ]
  }
 ],
 "metadata": {
  "kernelspec": {
   "display_name": "Python 3 (ipykernel)",
   "language": "python",
   "name": "python3"
  },
  "language_info": {
   "codemirror_mode": {
    "name": "ipython",
    "version": 3
   },
   "file_extension": ".py",
   "mimetype": "text/x-python",
   "name": "python",
   "nbconvert_exporter": "python",
   "pygments_lexer": "ipython3",
   "version": "3.10.6"
  }
 },
 "nbformat": 4,
 "nbformat_minor": 5
}
